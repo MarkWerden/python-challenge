{
 "cells": [
  {
   "cell_type": "code",
   "execution_count": 1,
   "id": "3bb12e72",
   "metadata": {},
   "outputs": [],
   "source": [
    "import os\n",
    "import csv"
   ]
  },
  {
   "cell_type": "code",
   "execution_count": 2,
   "id": "6450591e",
   "metadata": {},
   "outputs": [],
   "source": [
    "file = \"Resources/election_data.csv\""
   ]
  },
  {
   "cell_type": "code",
   "execution_count": 7,
   "id": "2879bd53",
   "metadata": {},
   "outputs": [],
   "source": []
  },
  {
   "cell_type": "code",
   "execution_count": 3,
   "id": "c6871e86",
   "metadata": {},
   "outputs": [],
   "source": [
    "Total = 0\n",
    "Votes_Khan = 0\n",
    "Votes_Correy = 0\n",
    "Votes_Li = 0\n",
    "Votes_O'Tooley = 0"
   ]
  },
  {
   "cell_type": "code",
   "execution_count": 4,
   "id": "92924575",
   "metadata": {},
   "outputs": [
    {
     "name": "stdout",
     "output_type": "stream",
     "text": [
      "Election Results\n",
      "---------------------------\n",
      "Total Votes: 3521001\n",
      "---------------------------\n",
      "Khan: 63.000% (2218231)\n",
      "Correy: 20.000% (704200)\n",
      "Li: 14.000% (492940)\n",
      "O'Tooley: 3.000% (105630)\n",
      "---------------------------\n",
      "Winner: Khan\n",
      "---------------------------\n"
     ]
    }
   ],
   "source": [
    "with open(file) as csvfile:\n",
    "    csvreader = csv.reader(csvfile, delimiter=',')\n",
    "    csv_header = next(csvfile)\n",
    "    \n",
    "    for row in csvreader:\n",
    "        Total = Total + 1\n",
    "    \n",
    "        if (row[2] == \"Khan\"):\n",
    "            Votes_Khan = Votes_Khan + 1\n",
    "        elif (row[2] == \"Correy\"):\n",
    "            Votes_Correy = Votes_Correy + 1\n",
    "        elif (row[2] == \"Li\"):\n",
    "            Votes_Li = Votes_Li + 1\n",
    "        else:\n",
    "            Votes_oTooley = Votes_oTooley + 1\n",
    "            \n",
    "    Percent_Khan = Votes_Khan / Total\n",
    "    Percent_Correy = Votes_Correy / Total\n",
    "    Percent_Li = Votes_Li / Total\n",
    "    Percent_oTooley = Votes_oTooley / Total\n",
    "    \n",
    "    ElectionWinner = max(Votes_Khan, Votes_Correy, Votes_Li, Votes_oTooley)\n",
    "    \n",
    "    if ElectionWinner == Votes_Khan:\n",
    "        Winner = \"Khan\"\n",
    "    elif ElectionWinner == Votes_Correy:\n",
    "        Winner = \"Correy\"\n",
    "    elif ElectionWinner == Votes_Li:\n",
    "        Winner = \"Li\"\n",
    "    else:\n",
    "        Winner = \"O'Tooley\"\n",
    "\n",
    "print(f\"Election Results\")\n",
    "print(f\"---------------------------\")\n",
    "print(f\"Total Votes: {Total}\")\n",
    "print(f\"---------------------------\")\n",
    "print(f\"Khan: {Percent_Khan:.3%} ({Votes_Khan})\")\n",
    "print(f\"Correy: {Percent_Correy:.3%} ({Votes_Correy})\")\n",
    "print(f\"Li: {Percent_Li:.3%} ({Votes_Li})\")\n",
    "print(f\"O'Tooley: {Percent_oTooley:.3%} ({Votes_oTooley})\")\n",
    "print(f\"---------------------------\")\n",
    "print(f\"Winner: {Winner}\")\n",
    "print(f\"---------------------------\")"
   ]
  },
  {
   "cell_type": "code",
   "execution_count": 5,
   "id": "eae0a78f",
   "metadata": {},
   "outputs": [],
   "source": [
    "output = \"Analysis/ExportedElectionData.txt\""
   ]
  },
  {
   "cell_type": "code",
   "execution_count": 6,
   "id": "2ca9d774",
   "metadata": {},
   "outputs": [],
   "source": [
    "with open(output, 'w') as txtfile:\n",
    "    txtfile.write(f\"Election Results\\n\")\n",
    "    txtfile.write(f\"---------------------------\\n\")\n",
    "    txtfile.write(f\"Total Votes: {Total}\\n\")\n",
    "    txtfile.write(f\"---------------------------\\n\")\n",
    "    txtfile.write(f\"Khan: {Percent_Khan:.3%} ({Votes_Khan})\\n\")\n",
    "    txtfile.write(f\"Correy: {Percent_Correy:.3%} ({Votes_Correy})\\n\")\n",
    "    txtfile.write(f\"Li: {Percent_Li:.3%} ({Votes_Li})\\n\")\n",
    "    txtfile.write(f\"O'Tooley: {Percent_oTooley:.3%} ({Votes_oTooley})\\n\")\n",
    "    txtfile.write(f\"---------------------------\\n\")\n",
    "    txtfile.write(f\"Winner: {Winner}\\n\")\n",
    "    txtfile.write(f\"---------------------------\\n\")"
   ]
  },
  {
   "cell_type": "code",
   "execution_count": null,
   "id": "1e1bfab7",
   "metadata": {},
   "outputs": [],
   "source": []
  }
 ],
 "metadata": {
  "kernelspec": {
   "display_name": "Python 3 (ipykernel)",
   "language": "python",
   "name": "python3"
  },
  "language_info": {
   "codemirror_mode": {
    "name": "ipython",
    "version": 3
   },
   "file_extension": ".py",
   "mimetype": "text/x-python",
   "name": "python",
   "nbconvert_exporter": "python",
   "pygments_lexer": "ipython3",
   "version": "3.9.7"
  }
 },
 "nbformat": 4,
 "nbformat_minor": 5
}
